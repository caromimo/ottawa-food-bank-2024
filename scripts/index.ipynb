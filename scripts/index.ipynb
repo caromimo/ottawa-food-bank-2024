{
  "cells": [
    {
      "cell_type": "raw",
      "metadata": {},
      "source": [
        "---\n",
        "title: Data for Good Ottawa - Ottawa Food Bank Project - Summer 2024 - UNREVISED DRAFT\n",
        "format:\n",
        "  html:\n",
        "    toc: true\n",
        "    toc-title: Index\n",
        "    toc-depth: 2\n",
        "    smooth-scroll: true\n",
        "    toc-location: left\n",
        "    theme: flatly\n",
        "---"
      ],
      "id": "3ef820e1"
    },
    {
      "cell_type": "markdown",
      "metadata": {},
      "source": [
        "# Introduction\n",
        "\n",
        "The [Data For Good Ottawa](https://ottawa.dataforgood.ca/) is a organisation of volunteers who want to use their data skills for good and to help their communities.\n",
        "\n",
        "For their summer 2024 event, Data For Good Ottawa paired with the [Ottawa Food Bank](https://www.ottawafoodbank.ca/) (OFB) to gain insight about their users. To do so, the OFB invited food program visitors to answer a [Neighbour Survey](https://www.ottawafoodbank.ca/neighbourhood-survey-2024/) (NS) in exchange of a $10 grocery certificate.\n",
        "\n",
        "Over 4000 participants, between April and May 2024, took part to the online survey which included 42 questions related to food security, food bank experience, unique needs, health, wellbeing, and demographics. All survey questions are includes in the appendix (see @tbl-survey-questions.)\n",
        "\n",
        "The research question posed by the OFB is *\"What is the relationship between food security status and health/demographics/needs in our sample?\"* \n",
        "\n",
        "The concept of food security is often attributed to the 1996 World Food Summit and defined as \"Food security exists when all people, at all times, have physical and economic access to sufﬁcient, safe and nutritious food that meets their dietary needs and food preferences for an active and healthy life” [FAO, 2006](https://www.fao.org/fileadmin/templates/faoitaly/documents/pdf/pdf_Food_Security_Cocept_Note.pdf). This definition includes the following dimensions:\n",
        "\n",
        "- *Food availability*: The availability of sufﬁcient quantities of food of appropriate quality, supplied through domestic production or imports\n",
        "(including food aid).\n",
        "\n",
        "- *Food access*: Access by individuals to adequate resources (entitlements) for acquiring appropriate foods for a nutritious diet. Entitlements are deﬁned as the set of all commodity bundles over which a person can establish command given the legal, political, economic and social arrangements of the community in which they live (including traditional rights such as access to common resources).\n",
        "\n",
        "- *Utilization*: Utilization of food through adequate diet, clean water, sanitation and health care to reach a state of nutritional well-being where all physiological needs are met. This brings out the importance of non-food inputs in food security.\n",
        "\n",
        "- *Stability*: To be food secure, a population, household or individual must have access to adequate food at all times. They should not risk losing access to food as a consequence of sudden shocks (e.g. an economic or climatic crisis) or cyclical events (e.g. seasonal food insecurity).\n",
        "\n",
        "# Exploratory Data Analysis\n",
        "\n",
        "The code, but not the data, for this page is available on [GitHub](https://github.com/caromimo/ottawa-food-bank-2024). This section includes some initial data preparation and exploration of the NS results.\n",
        "\n",
        "## Setup\n"
      ],
      "id": "1e33ceb4"
    },
    {
      "cell_type": "code",
      "metadata": {},
      "source": [
        "import numpy as np\n",
        "import matplotlib.pyplot as plt\n",
        "import plotly.express as px\n",
        "import pandas as pd\n",
        "import plotly.graph_objects as go"
      ],
      "id": "07e160a6",
      "execution_count": null,
      "outputs": []
    },
    {
      "cell_type": "markdown",
      "metadata": {},
      "source": [
        "## Data import\n",
        "\n",
        "OFB shared data with DFG volunteers as csv files. \n"
      ],
      "id": "59f2522b"
    },
    {
      "cell_type": "code",
      "metadata": {},
      "source": [
        "# | include: false\n",
        "from pathlib import Path\n",
        "print(Path.cwd())"
      ],
      "id": "01610fff",
      "execution_count": null,
      "outputs": []
    },
    {
      "cell_type": "code",
      "metadata": {},
      "source": [
        "raw = pd.read_csv(\"../data/raw/neighbour_survey_clean-2024-06-14.csv\")\n",
        "\n",
        "df = pd.read_csv(\"../data/processed/food_security_status_sub_sample.csv\")"
      ],
      "id": "97e9cd79",
      "execution_count": null,
      "outputs": []
    },
    {
      "cell_type": "markdown",
      "metadata": {},
      "source": [
        "## Data clearing\n",
        "\n",
        "The data was first clean to \n",
        "- remove columns with NAs in the first 8 questions \n",
        "    q1: suggests something is wrong with the data\n",
        "    q2 to 8: to be able to calculate the food security index without skewing the data\n",
        "\n",
        "Note that the above criteria for cleaning leaves us with 2812 rows of the initial 4054 rows, so approximately 69% of the initial dataset.\n",
        "\n",
        "## Data exploration\n"
      ],
      "id": "3ec36519"
    },
    {
      "cell_type": "code",
      "metadata": {},
      "source": [
        "# | include: false\n",
        "df.info()\n",
        "df.head()"
      ],
      "id": "30a1ade0",
      "execution_count": null,
      "outputs": []
    },
    {
      "cell_type": "code",
      "metadata": {},
      "source": [
        "# | include: false\n",
        "df.describe()"
      ],
      "id": "ebc79d68",
      "execution_count": null,
      "outputs": []
    },
    {
      "cell_type": "markdown",
      "metadata": {},
      "source": [
        "## Data collapsing\n",
        "\n",
        "As we are dealing with categorical data, we will convert strings to categories. \n"
      ],
      "id": "836bd02a"
    },
    {
      "cell_type": "code",
      "metadata": {},
      "source": [
        "# | include: false\n",
        "# Create a dictionary of all column names\n",
        "conversion_dictionary = {k: \"category\" for k in df.select_dtypes(include=\"object\").columns}\n",
        "conversion_dictionary"
      ],
      "id": "a1374333",
      "execution_count": null,
      "outputs": []
    },
    {
      "cell_type": "code",
      "metadata": {},
      "source": [
        "# | include: false\n",
        "# Convert df and check data types\n",
        "df = df.astype(conversion_dictionary)\n",
        "df.info()"
      ],
      "id": "82202a54",
      "execution_count": null,
      "outputs": []
    },
    {
      "cell_type": "markdown",
      "metadata": {},
      "source": [
        "## Data processing\n",
        "\n",
        "### Collapsing categories\n",
        "Answers to question 9 (\"How many years ago did you and your household first use a food bank?\"\") were collapsed before and after 2020. "
      ],
      "id": "bf423f2e"
    },
    {
      "cell_type": "code",
      "metadata": {},
      "source": [
        "# | include: false\n",
        "# Create dictionary of categories to collapse\n",
        "new_time_period = {\n",
        "    \"less than 1 year ago\": \"After 2020\",\n",
        "    \"1 to 2 years ago\": \"After 2020\",\n",
        "    \"3 to 4 years ago\": \"After 2020\",\n",
        "    \"5 to 10 years ago\": \"Before 2020\",\n",
        "    \"more than 10 years ago\": \"Before 2020\",\n",
        "    \"prefer not to answer\": \"Unknown\",\n",
        "}"
      ],
      "id": "2035a830",
      "execution_count": null,
      "outputs": []
    },
    {
      "cell_type": "code",
      "metadata": {},
      "source": [
        "# | include: false\n",
        "# Replace the values in the column and reset as a category\n",
        "df[\"time_period_clean\"]= df[\"q009\"].replace(new_time_period).astype(\"category\")\n",
        "df[\"time_period_clean\"].value_counts()"
      ],
      "id": "74bf9280",
      "execution_count": null,
      "outputs": []
    },
    {
      "cell_type": "markdown",
      "metadata": {},
      "source": [
        "### Six-Item Food Security Scale\n",
        "\n",
        "The six-item short form of the survey module and the associated Six-Item Food Security Scale were developed by researchers at the National Center for Health Statistics ([HSSSM](https://www.ers.usda.gov/media/8282/short2012.pdf)). The questions in the six item short form correspond to questions 3 to 8, inclusively in the neighborhood survey.\n",
        "\n",
        "Building an insecurity index\n",
        "\n",
        "Assumptions: \n",
        "- Respondents were invited to fill the survey at a service point. This is not a random sample\n",
        "Limitation: \n",
        "- could not validate the insecurity index\n",
        "\n",
        "We also reordered categories for question 03 (How often did the following occur in the last 12 months? “The food that I bought just didn’t last, and I didn’t have money to get more.”)\n",
        "\n",
        "To build an index, we need to have complete dataset for the six questions contributing to the food security index\n",
        "\n",
        "The script OFB_calculator handles those steps.\n",
        "\n",
        "## Data exploration\n",
        "\n",
        "The survey was available in four languages. Most repondents answered in English (83%), followed by French (9%), Arabic (6%), and Simplified Chinese (2%).\n"
      ],
      "id": "8ba58570"
    },
    {
      "cell_type": "code",
      "metadata": {},
      "source": [
        "# | echo: false\n",
        "df.q001.value_counts()"
      ],
      "id": "9554bbeb",
      "execution_count": null,
      "outputs": []
    },
    {
      "cell_type": "markdown",
      "metadata": {},
      "source": [
        "## Data visualisation\n"
      ],
      "id": "4a0b7e8e"
    },
    {
      "cell_type": "code",
      "metadata": {},
      "source": [
        "# | include: false\n",
        "plt.style.use(\"default\")"
      ],
      "id": "72700317",
      "execution_count": null,
      "outputs": []
    },
    {
      "cell_type": "code",
      "metadata": {},
      "source": [
        "df.food_security_score.value_counts()\n",
        "\n",
        " 1.value_counts().sort_values(ascending=True).plot.barh()\n",
        "plt.title(\"Survey Language of Respondents (Q1)\");  # fmt: skip\n",
        "plt.xlabel(\"Number of respondents\");  # fmt: skip\n",
        "plt.ylabel(\"\");  # fmt: skip"
      ],
      "id": "ad9e554c",
      "execution_count": null,
      "outputs": []
    },
    {
      "cell_type": "code",
      "metadata": {},
      "source": [
        "# | echo: false\n",
        "df.q001.value_counts().sort_values(ascending=True).plot.barh()\n",
        "plt.title(\"Survey Language of Respondents (Q1)\");  # fmt: skip\n",
        "plt.xlabel(\"Number of respondents\");  # fmt: skip\n",
        "plt.ylabel(\"\");  # fmt: skip"
      ],
      "id": "4ec67cdb",
      "execution_count": null,
      "outputs": []
    },
    {
      "cell_type": "code",
      "metadata": {},
      "source": [
        "# | echo: false\n",
        "df.q002.value_counts().sort_values(ascending=True).plot.barh()\n",
        "plt.title(\"Are the respondent's incomes enough to meet their food needs? (Q2)\");  # fmt: skip\n",
        "plt.xlabel(\"Number of respondents\");  # fmt: skip\n",
        "plt.ylabel(\"\");  # fmt: skip"
      ],
      "id": "bec06e68",
      "execution_count": null,
      "outputs": []
    },
    {
      "cell_type": "code",
      "metadata": {},
      "source": [
        "# | echo: false\n",
        "df.q003.value_counts().sort_values(ascending=True).plot.barh()\n",
        "plt.title(\n",
        "    \"How often did respondents not have money to get more food in the last 12 months? (Q3)\"\n",
        ");  # fmt: skip\n",
        "plt.xlabel(\"Number of respondents\");  # fmt: skip\n",
        "plt.ylabel(\"\");  # fmt: skip"
      ],
      "id": "5d0139f7",
      "execution_count": null,
      "outputs": []
    },
    {
      "cell_type": "code",
      "metadata": {},
      "source": [
        "# | echo: false\n",
        "df.q005.value_counts().sort_values(ascending=True).plot.barh()\n",
        "plt.title(\n",
        "    \"Have respondents cut size or skipped meals because they did not have money for food in the last 12 months? (Q5)\"\n",
        ");  # fmt: skip\n",
        "plt.xlabel(\"Number of respondents\");  # fmt: skip\n",
        "plt.ylabel(\"\");  # fmt: skip"
      ],
      "id": "793fbfa9",
      "execution_count": null,
      "outputs": []
    },
    {
      "cell_type": "code",
      "metadata": {},
      "source": [
        "# | echo: false\n",
        "df.q009.value_counts().sort_values(ascending=True).plot.barh()\n",
        "plt.title(\n",
        "    \"How many years ago did the respondents and your household first use a food bank? (Q9)\"\n",
        ");  # fmt: skip\n",
        "plt.xlabel(\"Number of respondents\");  # fmt: skip\n",
        "plt.ylabel(\"\");  # fmt: skip"
      ],
      "id": "460e7010",
      "execution_count": null,
      "outputs": []
    },
    {
      "cell_type": "markdown",
      "metadata": {},
      "source": [
        "# Data Analysis\n",
        "\n",
        "## Response rate\n",
        "\n",
        "\n",
        "# Interpretation\n",
        "\n",
        "## Limitation\n",
        "\n",
        "### Assumptions\n",
        "\n",
        "\n",
        "\n",
        "# Appendix - Survey questions\n"
      ],
      "id": "4d076e3d"
    },
    {
      "cell_type": "raw",
      "metadata": {},
      "source": [
        "---\n",
        "tbl-cap-location: top\n",
        "---"
      ],
      "id": "1be25f38"
    },
    {
      "cell_type": "markdown",
      "metadata": {},
      "source": [
        ": Summary of survey questions {#tbl-survey-questions}\n",
        "\n",
        "| No | Question | Data | Levels |\n",
        "|-|---------|-|-----|\n",
        "| id | Participant | ID | NA |\n",
        "| 001 | Language of survey | factor | Arabic; English; French; Simplified Chinese |\n",
        "| 002 | Is your income enough to meet your food needs? | factor | no; prefer not to answer; yes |\n",
        "| 003 | How often did the following occur in the last 12 months? \"The food that I bought just didn't last, and I didn't have money to get more.\" | factor | don't know; never true; often true; prefer not to answer; sometimes true |\n",
        "| 004 | How often did the following occur in the last 12 months? I couldn't afford to eat nutritionally balanced meals. | factor | don't know; never true; often true; prefer not to answer; sometimes true |\n",
        "| 005 | In the last 12 months, did you ever cut the size of your meals or skip meals because there wasn't enough money for food? | factor | don't know; no; prefer not to answer; yes |\n",
        "| 006 | How often did this happen in the last 12 months? | factor | almost every month; did not happen; don't know; only 1 or 2 months; prefer not to answer; some months but not every month |\n",
        "| 007 | In the last 12 months, did you ever eat less than you felt you should because there wasn't enough money for food? | factor | don't know; no; prefer not to answer; yes |\n",
        "| 008 | In the last 12 months, were you ever hungry but didn't eat because there wasn't enough money for food? | factor | don't know; no; prefer not to answer; yes |\n",
        "| 009 | How many years ago did you and your household first use a food bank? | factor | 1 to 2 years ago; 3 to 4 years ago; 5 to 10 years ago; less than 1 year ago; more than 10 years ago; prefer not to answer |\n",
        "| 010 | How often do you visit a food bank? | factor | every 6 months; every two months; less than twice a year; once per month; other; prefer not to answer; two times per month |\n",
        "| 011 | Food programs include: food banks that serve a specific catchment region; meal programs, community kitchens / cooking programs; food pantries; community fridges; or any combination.\n",
        "| a | How often do you visit a food program that is not a food bank? | factor | daily; don't visit every month; every two months; I do not visit other food programs; less than every 6 months; more than once a week but less than daily; once a week; other; other (please specify); prefer not to answer'; two times a month |\n",
        "| b | How often do you visit a food program that is not a food bank? Other (please specify) | text |\n",
        "| 012 | Which food bank do you visit most often? | text |\n",
        "| 013 | How many different food programs do you visit in a month? | factor | 2 to 3; don't visit every month; more than 4; none of the above; one; prefer not to answer |\n",
        "| 014 | Do you have difficulty accessing food programs due to any of the following? Please select all that apply. \n",
        "| a | none of the above | boolean |\n",
        "| b | language barriers | boolean |\n",
        "| c | physical inaccessibility | boolean |\n",
        "| d | safety concerns | boolean |\n",
        "| e | transportation barriers | boolean |\n",
        "| f | program hours of operation | boolean |\n",
        "| g | prefer not to answer | boolean |\n",
        "| h | Other (please specify) | text |\n",
        "| 015 | How long does it take you to get to the food program you visit most often? | factor | 30-60 minutes; 60-90 minutes; less than 30 minutes; more than 90 minutes; prefer not to answer | \n",
        "| 016 | How do you get to the food program you visit most often? Please select all that apply. |\n",
        "| a | walk | boolean |\n",
        "| b | cycle | boolean |\n",
        "| c | public transportation | boolean |\n",
        "| d | private transportation | boolean |\n",
        "| e | prefer not to answer | boolean |\n",
        "| f | Other (please specify) | text |\n",
        "| 017 | Other than food, what services do you use at food programs? Please select all that apply. |\n",
        "| a | housing / utilities support | boolean |\n",
        "| b | computers or internet | boolean |\n",
        "| c | income tax clinics / financial literacy services | boolean |\n",
        "| d | legal services | boolean |\n",
        "| e | one on one service navigation | boolean |\n",
        "| f | employment/income support | boolean |\n",
        "| g | education services | boolean |\n",
        "| h | childcare | boolean |\n",
        "| i | none of the above | boolean |\n",
        "| j | prefer not to answer | boolean |\n",
        "| k | Other (please specify) | text | \n",
        "| 018 | Are there any services you would like food programs to offer? | text |\n",
        "| 019 | Are you able to exercise regularly? | factor | no; prefer not to answer; yes |\n",
        "| 020 | If yes, how often do you exercise? | factor | 2-4 times a week; 5 or more times a week; daily; do not exercise; less than 1 time a week; prefer not to answer |\n",
        "| 021 | Do you have any of the following? Please select all that apply.\n",
        "| a | prefer not to answer | boolean |\n",
        "| b | diabetes | boolean |\n",
        "| c | high blood pressure | boolean |\n",
        "| d | heart disease | boolean |\n",
        "| e | no health conditions | boolean |\n",
        "| f | other (please specify) | text |\n",
        "| 022 | Are you pregnant? | factor | no; not applicable; prefer not to answer |\n",
        "| 023 | Do food programs meet your unique food needs? |\n",
        "| a | none of the above | boolean |\n",
        "| b | Yes | boolean |\n",
        "| c | No | boolean |\n",
        "| d | sometimes | boolean |\n",
        "| e | prefer not to answer | boolean |\n",
        "| f | Other (please specify) | text |\n",
        "| 024 | What types of food do you need? Please select all that apply. |\n",
        "| a | halal | boolean |\n",
        "| b | kosher | boolean |\n",
        "| c | vegan or vegetarian | boolean |\n",
        "| d | food for medical conditions | boolean |\n",
        "| e | allergen-free foods | boolean |\n",
        "| f | country food | boolean |\n",
        "| g | no special food | boolean |\n",
        "| h | prefer not to answer | boolean |\n",
        "| i | other (please specify) | text |\n",
        "| 025 | How old are you? | factor | 18-20; 21-30; 31-40; 41-50; 51-60; 61-70 ;over 70; prefer not to answer |\n",
        "| 026 | How many people live in your household, including yourself? | factor | 2 to 4; 5 to 7; more than 7; one ;prefer not to answer |\n",
        "| 027 | Do any children live in your household? | factor | no; prefer not to answer; yes |\n",
        "| 028 | Are you breastfeeding? |\n",
        "| a | Yes | boolean |\n",
        "| b | No | boolean |\n",
        "| c | not applicable |\n",
        "| d | prefer not to answer | boolean |\n",
        "| 029 | How many children under the age of 3 live in your household? | text |\n",
        "| 030 | How many children aged 3-5 live in your household? | text |\n",
        "| 031 | How many children aged 6-12 live in your household? | text |\n",
        "| 032 | How many children aged 13-17 live in your household? | text |\n",
        "| 033 | Which of the following best describes your highest level of education? Please select all that apply. |\n",
        "| a | some high school | boolean |\n",
        "| b | completed high school | boolean |\n",
        "| c | some college / university | boolean |\n",
        "| d | completed college / university | boolean |\n",
        "| e | apprenticeship training and trades | boolean |\n",
        "| f | some graduate education |\n",
        "| g | completed graduate education | boolean |\n",
        "| h | professional degree | boolean |\n",
        "| i | prefer not to answer | boolean |\n",
        "| 034 | Did you complete your highest level of education outside of Canada? | factor | no: prefer not to answer: received canadian equivalency: yes |\n",
        "| 035 | What is your status in Canada? | factor | applying for refugee status; canadian citizen; international student; migrant worker; other; permanent resident; prefer not to answer; refugee |\n",
        "| b | other (please specify) | text |\n",
        "| 036 | What is your gender? | factor | man; prefer not to answer; trans man; trans woman; woman |\n",
        "| b | other (please specify) | text |\n",
        "| 037 | How long have you lived in Canada? | factor | 1-4 years: 10 or more years: 5-9 years: canadian born; less than 1 year ago; not applicable; prefer not to answer |\n",
        "| 038 | Which of the following best describes your ethnic background? Please select all that apply. |\n",
        "| a | Indigenous (Inuit/First Nations/Metis) | boolean |\n",
        "| b | White/European | boolean |\n",
        "| c | Black/African/Caribbean (African, Afro-Caribbean, African-Canadian descent) | boolean |\n",
        "| d | South East Asian (Filipino, Vietnamese, Cambodian, Thai, other Southeast Asian descent) | boolean |\n",
        "| e | East Asian (Chinese, Korean, Japanese, Taiwanese descent) | boolean |\n",
        "| f | South Asian (e.g. East Indian, Pakistani, Sri Lankan, Indo-Caribbean, etc) | boolean |\n",
        "| g | Middle Eastern (Arab, Persian, West Asian descent, e.g. Afghan, Egyptian, Iranian, etc) | boolean |\n",
        "| h | Latin American (Latin American, Hispanic descent) | boolean |\n",
        "| i | I don't know | boolean |\n",
        "| j | Prefer not to answer | boolean |\n",
        "| k | Other (please specify) | text |\n",
        "| 039 | Are you currently living with any of the following? Please select all that apply.\n",
        "| a | none of the above | boolean |\n",
        "| b | physical disability | boolean |\n",
        "| c | chronic illness / pain | boolean |\n",
        "| d | disability | boolean |\n",
        "| e | developmental disability | boolean |\n",
        "| f | learning disability | boolean |\n",
        "| g | mental illness | boolean |\n",
        "| h | prefer not to answer | boolean |\n",
        "| i | other (please specify) | text |\n",
        "| 040 | Which of the following best describes where you currently live? Private rental housing | factor | group home/youth shelter; on the street; other; own home (mortgaged or fully owned); prefer not to answer; private rental housing; rooming house; shelter; social rental housing; supportive housing; with family or friends |\n",
        "| b | Other (please specify) | text |\n",
        "| 041 | In the past month, which of the following sources of income did you have? Please select all that apply. |\n",
        "| a | Employed at least 35 hours each week | boolean |\n",
        "| b | Employed less than 35 hours each week | boolean |\n",
        "| c | Ontario Disability Support Program (ODSP) | boolean |\n",
        "| d | Ontario Works (OW) | boolean |\n",
        "| e | Canada Emergency Response Benefit (CERB) | boolean |\n",
        "| f | Scholarship | boolean |\n",
        "| g | Student loans | boolean |\n",
        "| h | Employment Insurance (EI) | boolean |\n",
        "| i | Family support | boolean |\n",
        "| j | Spousal support | boolean |\n",
        "| k | Canada Child Benefit (CCB) | boolean |\n",
        "| l | Ontario Trillium Benefit (OTB) | boolean |\n",
        "| m | Canadian Pension Plan (CPP) | boolean |\n",
        "| n | Private pension | boolean |\n",
        "| o | Old Age Security (OAS) | boolean |\n",
        "| p | Workplace Safety and Insurance Board (WSIB) | boolean |\n",
        "| q | Short/long term disability | boolean |\n",
        "| r | Other government programs | boolean |\n",
        "| s | No income | boolean |\n",
        "| t | Prefer not to answer | boolean |\n",
        "| u | Other (please specify) | text |\n",
        "| 042 | Are there any comments or ideas you would like to share? | text |\n",
        "\n",
        "The questions are categorize [here](https://patch-diff.githubusercontent.com/raw/Data-For-Good-Ottawa/OFB_2023/pull/5.diff)."
      ],
      "id": "75a3e1e4"
    }
  ],
  "metadata": {
    "kernelspec": {
      "name": "python3",
      "language": "python",
      "display_name": "Python 3 (ipykernel)"
    }
  },
  "nbformat": 4,
  "nbformat_minor": 5
}